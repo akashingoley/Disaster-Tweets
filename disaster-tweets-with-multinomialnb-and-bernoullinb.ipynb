{
 "cells": [
  {
   "cell_type": "code",
   "execution_count": 1,
   "id": "f7a7ef49",
   "metadata": {
    "_cell_guid": "b1076dfc-b9ad-4769-8c92-a6c4dae69d19",
    "_uuid": "8f2839f25d086af736a60e9eeb907d3b93b6e0e5",
    "execution": {
     "iopub.execute_input": "2021-10-04T09:32:36.018291Z",
     "iopub.status.busy": "2021-10-04T09:32:36.017068Z",
     "iopub.status.idle": "2021-10-04T09:32:36.032040Z",
     "shell.execute_reply": "2021-10-04T09:32:36.031149Z",
     "shell.execute_reply.started": "2021-10-04T09:29:40.918884Z"
    },
    "papermill": {
     "duration": 0.041497,
     "end_time": "2021-10-04T09:32:36.032289",
     "exception": false,
     "start_time": "2021-10-04T09:32:35.990792",
     "status": "completed"
    },
    "tags": []
   },
   "outputs": [
    {
     "name": "stdout",
     "output_type": "stream",
     "text": [
      "/kaggle/input/nlp-getting-started/sample_submission.csv\n",
      "/kaggle/input/nlp-getting-started/train.csv\n",
      "/kaggle/input/nlp-getting-started/test.csv\n"
     ]
    }
   ],
   "source": [
    "# This Python 3 environment comes with many helpful analytics libraries installed\n",
    "# It is defined by the kaggle/python Docker image: https://github.com/kaggle/docker-python\n",
    "# For example, here's several helpful packages to load\n",
    "\n",
    "import numpy as np # linear algebra\n",
    "import pandas as pd # data processing, CSV file I/O (e.g. pd.read_csv)\n",
    "\n",
    "# Input data files are available in the read-only \"../input/\" directory\n",
    "# For example, running this (by clicking run or pressing Shift+Enter) will list all files under the input directory\n",
    "\n",
    "import os\n",
    "for dirname, _, filenames in os.walk('/kaggle/input'):\n",
    "    for filename in filenames:\n",
    "        print(os.path.join(dirname, filename))\n",
    "\n",
    "# You can write up to 20GB to the current directory (/kaggle/working/) that gets preserved as output when you create a version using \"Save & Run All\" \n",
    "# You can also write temporary files to /kaggle/temp/, but they won't be saved outside of the current session"
   ]
  },
  {
   "cell_type": "code",
   "execution_count": 2,
   "id": "6322019f",
   "metadata": {
    "execution": {
     "iopub.execute_input": "2021-10-04T09:32:36.077968Z",
     "iopub.status.busy": "2021-10-04T09:32:36.073917Z",
     "iopub.status.idle": "2021-10-04T09:32:37.551921Z",
     "shell.execute_reply": "2021-10-04T09:32:37.552425Z",
     "shell.execute_reply.started": "2021-10-04T09:29:40.953611Z"
    },
    "papermill": {
     "duration": 1.500142,
     "end_time": "2021-10-04T09:32:37.552629",
     "exception": false,
     "start_time": "2021-10-04T09:32:36.052487",
     "status": "completed"
    },
    "tags": []
   },
   "outputs": [],
   "source": [
    "import matplotlib.pyplot as plt\n",
    "import numpy as np \n",
    "from sklearn.model_selection import train_test_split\n",
    "from nltk.corpus import stopwords\n",
    "from nltk.tokenize import RegexpTokenizer\n",
    "from nltk.stem.porter import PorterStemmer\n",
    "from sklearn.naive_bayes import MultinomialNB, BernoulliNB\n",
    "from sklearn.pipeline import Pipeline\n",
    "from sklearn.feature_extraction.text import TfidfVectorizer\n",
    "from sklearn.feature_extraction.text import CountVectorizer"
   ]
  },
  {
   "cell_type": "code",
   "execution_count": 3,
   "id": "99ee679a",
   "metadata": {
    "execution": {
     "iopub.execute_input": "2021-10-04T09:32:37.594907Z",
     "iopub.status.busy": "2021-10-04T09:32:37.593942Z",
     "iopub.status.idle": "2021-10-04T09:32:37.670806Z",
     "shell.execute_reply": "2021-10-04T09:32:37.671324Z",
     "shell.execute_reply.started": "2021-10-04T09:29:42.646527Z"
    },
    "papermill": {
     "duration": 0.100129,
     "end_time": "2021-10-04T09:32:37.671509",
     "exception": false,
     "start_time": "2021-10-04T09:32:37.571380",
     "status": "completed"
    },
    "tags": []
   },
   "outputs": [],
   "source": [
    "train_data = pd.read_csv('/kaggle/input/nlp-getting-started/train.csv')\n",
    "test_data = pd.read_csv('/kaggle/input/nlp-getting-started/test.csv')"
   ]
  },
  {
   "cell_type": "code",
   "execution_count": 4,
   "id": "fef65a8c",
   "metadata": {
    "execution": {
     "iopub.execute_input": "2021-10-04T09:32:37.713299Z",
     "iopub.status.busy": "2021-10-04T09:32:37.712331Z",
     "iopub.status.idle": "2021-10-04T09:32:37.732524Z",
     "shell.execute_reply": "2021-10-04T09:32:37.731999Z",
     "shell.execute_reply.started": "2021-10-04T09:29:42.737059Z"
    },
    "papermill": {
     "duration": 0.042252,
     "end_time": "2021-10-04T09:32:37.732676",
     "exception": false,
     "start_time": "2021-10-04T09:32:37.690424",
     "status": "completed"
    },
    "tags": []
   },
   "outputs": [
    {
     "data": {
      "text/html": [
       "<div>\n",
       "<style scoped>\n",
       "    .dataframe tbody tr th:only-of-type {\n",
       "        vertical-align: middle;\n",
       "    }\n",
       "\n",
       "    .dataframe tbody tr th {\n",
       "        vertical-align: top;\n",
       "    }\n",
       "\n",
       "    .dataframe thead th {\n",
       "        text-align: right;\n",
       "    }\n",
       "</style>\n",
       "<table border=\"1\" class=\"dataframe\">\n",
       "  <thead>\n",
       "    <tr style=\"text-align: right;\">\n",
       "      <th></th>\n",
       "      <th>id</th>\n",
       "      <th>keyword</th>\n",
       "      <th>location</th>\n",
       "      <th>text</th>\n",
       "      <th>target</th>\n",
       "    </tr>\n",
       "  </thead>\n",
       "  <tbody>\n",
       "    <tr>\n",
       "      <th>0</th>\n",
       "      <td>1</td>\n",
       "      <td>NaN</td>\n",
       "      <td>NaN</td>\n",
       "      <td>Our Deeds are the Reason of this #earthquake M...</td>\n",
       "      <td>1</td>\n",
       "    </tr>\n",
       "    <tr>\n",
       "      <th>1</th>\n",
       "      <td>4</td>\n",
       "      <td>NaN</td>\n",
       "      <td>NaN</td>\n",
       "      <td>Forest fire near La Ronge Sask. Canada</td>\n",
       "      <td>1</td>\n",
       "    </tr>\n",
       "    <tr>\n",
       "      <th>2</th>\n",
       "      <td>5</td>\n",
       "      <td>NaN</td>\n",
       "      <td>NaN</td>\n",
       "      <td>All residents asked to 'shelter in place' are ...</td>\n",
       "      <td>1</td>\n",
       "    </tr>\n",
       "    <tr>\n",
       "      <th>3</th>\n",
       "      <td>6</td>\n",
       "      <td>NaN</td>\n",
       "      <td>NaN</td>\n",
       "      <td>13,000 people receive #wildfires evacuation or...</td>\n",
       "      <td>1</td>\n",
       "    </tr>\n",
       "    <tr>\n",
       "      <th>4</th>\n",
       "      <td>7</td>\n",
       "      <td>NaN</td>\n",
       "      <td>NaN</td>\n",
       "      <td>Just got sent this photo from Ruby #Alaska as ...</td>\n",
       "      <td>1</td>\n",
       "    </tr>\n",
       "  </tbody>\n",
       "</table>\n",
       "</div>"
      ],
      "text/plain": [
       "   id keyword location                                               text  \\\n",
       "0   1     NaN      NaN  Our Deeds are the Reason of this #earthquake M...   \n",
       "1   4     NaN      NaN             Forest fire near La Ronge Sask. Canada   \n",
       "2   5     NaN      NaN  All residents asked to 'shelter in place' are ...   \n",
       "3   6     NaN      NaN  13,000 people receive #wildfires evacuation or...   \n",
       "4   7     NaN      NaN  Just got sent this photo from Ruby #Alaska as ...   \n",
       "\n",
       "   target  \n",
       "0       1  \n",
       "1       1  \n",
       "2       1  \n",
       "3       1  \n",
       "4       1  "
      ]
     },
     "execution_count": 4,
     "metadata": {},
     "output_type": "execute_result"
    }
   ],
   "source": [
    "train_data.head()"
   ]
  },
  {
   "cell_type": "code",
   "execution_count": 5,
   "id": "01307149",
   "metadata": {
    "execution": {
     "iopub.execute_input": "2021-10-04T09:32:37.775261Z",
     "iopub.status.busy": "2021-10-04T09:32:37.774308Z",
     "iopub.status.idle": "2021-10-04T09:32:37.784597Z",
     "shell.execute_reply": "2021-10-04T09:32:37.783963Z",
     "shell.execute_reply.started": "2021-10-04T09:29:42.767288Z"
    },
    "papermill": {
     "duration": 0.032808,
     "end_time": "2021-10-04T09:32:37.784749",
     "exception": false,
     "start_time": "2021-10-04T09:32:37.751941",
     "status": "completed"
    },
    "tags": []
   },
   "outputs": [
    {
     "data": {
      "text/plain": [
       "(array([0, 1]), array([4342, 3271]))"
      ]
     },
     "execution_count": 5,
     "metadata": {},
     "output_type": "execute_result"
    }
   ],
   "source": [
    "# Checking target column \n",
    "np.unique(train_data.target, return_counts=True)"
   ]
  },
  {
   "cell_type": "code",
   "execution_count": 6,
   "id": "74bb6035",
   "metadata": {
    "execution": {
     "iopub.execute_input": "2021-10-04T09:32:37.836478Z",
     "iopub.status.busy": "2021-10-04T09:32:37.835433Z",
     "iopub.status.idle": "2021-10-04T09:32:38.144706Z",
     "shell.execute_reply": "2021-10-04T09:32:38.144182Z",
     "shell.execute_reply.started": "2021-10-04T09:29:42.780519Z"
    },
    "papermill": {
     "duration": 0.340188,
     "end_time": "2021-10-04T09:32:38.144885",
     "exception": false,
     "start_time": "2021-10-04T09:32:37.804697",
     "status": "completed"
    },
    "tags": []
   },
   "outputs": [
    {
     "data": {
      "image/png": "[encoded data removed]",
      "text/plain": [
       "<Figure size 432x288 with 1 Axes>"
      ]
     },
     "metadata": {
      "needs_background": "light"
     },
     "output_type": "display_data"
    }
   ],
   "source": [
    "# Visualizing data distribution\n",
    "target_count = train_data.groupby('target').size().reset_index(name='counts')\n",
    "plt.bar(target_count.target, target_count.counts)\n",
    "plt.xticks([0,1], labels=[\"Not disaster tweets\", \"disaster tweets\"])\n",
    "plt.title(\"Target Distribution\")\n",
    "plt.show()"
   ]
  },
  {
   "cell_type": "markdown",
   "id": "031e68b9",
   "metadata": {
    "papermill": {
     "duration": 0.01946,
     "end_time": "2021-10-04T09:32:38.184254",
     "exception": false,
     "start_time": "2021-10-04T09:32:38.164794",
     "status": "completed"
    },
    "tags": []
   },
   "source": [
    "# Data Cleaning and Preprocessing"
   ]
  },
  {
   "cell_type": "code",
   "execution_count": 7,
   "id": "296c5578",
   "metadata": {
    "execution": {
     "iopub.execute_input": "2021-10-04T09:32:38.233297Z",
     "iopub.status.busy": "2021-10-04T09:32:38.232617Z",
     "iopub.status.idle": "2021-10-04T09:32:38.235931Z",
     "shell.execute_reply": "2021-10-04T09:32:38.235289Z",
     "shell.execute_reply.started": "2021-10-04T09:29:43.074744Z"
    },
    "papermill": {
     "duration": 0.030307,
     "end_time": "2021-10-04T09:32:38.236073",
     "exception": false,
     "start_time": "2021-10-04T09:32:38.205766",
     "status": "completed"
    },
    "tags": []
   },
   "outputs": [],
   "source": [
    "def preprocess(reviews):\n",
    "    tokenizer = RegexpTokenizer(r'\\w+')\n",
    "    review = str(reviews)\n",
    "    review = review.lower()\n",
    "    review = review.replace(\"<br /><br />\", \"\")\n",
    "    tokens = tokenizer.tokenize(review)\n",
    "\n",
    "    stop_words = set(stopwords.words('english'))\n",
    "    stopwords_removed = [i for i in tokens if i not in stop_words]\n",
    "\n",
    "    ps = PorterStemmer()\n",
    "    stem_text = [ps.stem(i) for i in stopwords_removed]\n",
    "\n",
    "    cleaned_reviews = \" \".join(stem_text)\n",
    "\n",
    "    return cleaned_reviews"
   ]
  },
  {
   "cell_type": "code",
   "execution_count": 8,
   "id": "2f6c76a0",
   "metadata": {
    "execution": {
     "iopub.execute_input": "2021-10-04T09:32:38.284269Z",
     "iopub.status.busy": "2021-10-04T09:32:38.283538Z",
     "iopub.status.idle": "2021-10-04T09:32:42.100922Z",
     "shell.execute_reply": "2021-10-04T09:32:42.101469Z",
     "shell.execute_reply.started": "2021-10-04T09:29:43.086538Z"
    },
    "papermill": {
     "duration": 3.844645,
     "end_time": "2021-10-04T09:32:42.101660",
     "exception": false,
     "start_time": "2021-10-04T09:32:38.257015",
     "status": "completed"
    },
    "tags": []
   },
   "outputs": [],
   "source": [
    "# CLeaning our training Data\n",
    "X = train_data.text.apply(preprocess)\n",
    "y = train_data.target"
   ]
  },
  {
   "cell_type": "markdown",
   "id": "009848a9",
   "metadata": {
    "papermill": {
     "duration": 0.020084,
     "end_time": "2021-10-04T09:32:42.142467",
     "exception": false,
     "start_time": "2021-10-04T09:32:42.122383",
     "status": "completed"
    },
    "tags": []
   },
   "source": [
    "# Splitting the Data into Train and Test"
   ]
  },
  {
   "cell_type": "code",
   "execution_count": 9,
   "id": "3b782d61",
   "metadata": {
    "execution": {
     "iopub.execute_input": "2021-10-04T09:32:42.190738Z",
     "iopub.status.busy": "2021-10-04T09:32:42.190111Z",
     "iopub.status.idle": "2021-10-04T09:32:42.198417Z",
     "shell.execute_reply": "2021-10-04T09:32:42.199124Z",
     "shell.execute_reply.started": "2021-10-04T09:29:47.031171Z"
    },
    "papermill": {
     "duration": 0.03576,
     "end_time": "2021-10-04T09:32:42.199353",
     "exception": false,
     "start_time": "2021-10-04T09:32:42.163593",
     "status": "completed"
    },
    "tags": []
   },
   "outputs": [
    {
     "name": "stdout",
     "output_type": "stream",
     "text": [
      "(6090,) (6090,)\n",
      "(1523,) (1523,)\n"
     ]
    }
   ],
   "source": [
    "X_train, X_test, y_train, y_test = train_test_split(np.array(X), y, test_size=0.20, random_state=10)\n",
    "print(X_train.shape, y_train.shape)\n",
    "print(X_test.shape, y_test.shape)"
   ]
  },
  {
   "cell_type": "markdown",
   "id": "ab061155",
   "metadata": {
    "papermill": {
     "duration": 0.020443,
     "end_time": "2021-10-04T09:32:42.240606",
     "exception": false,
     "start_time": "2021-10-04T09:32:42.220163",
     "status": "completed"
    },
    "tags": []
   },
   "source": [
    "# Creating Model Pipeline"
   ]
  },
  {
   "cell_type": "code",
   "execution_count": 10,
   "id": "4ed13a6d",
   "metadata": {
    "execution": {
     "iopub.execute_input": "2021-10-04T09:32:42.289726Z",
     "iopub.status.busy": "2021-10-04T09:32:42.289061Z",
     "iopub.status.idle": "2021-10-04T09:32:42.291934Z",
     "shell.execute_reply": "2021-10-04T09:32:42.292418Z",
     "shell.execute_reply.started": "2021-10-04T09:29:47.044838Z"
    },
    "papermill": {
     "duration": 0.03143,
     "end_time": "2021-10-04T09:32:42.292604",
     "exception": false,
     "start_time": "2021-10-04T09:32:42.261174",
     "status": "completed"
    },
    "tags": []
   },
   "outputs": [],
   "source": [
    "model1 = Pipeline([\n",
    "    ('tfidf', TfidfVectorizer()), \n",
    "    ('mnb', MultinomialNB())\n",
    "])\n",
    "model2 = Pipeline([\n",
    "    ('c_vec', CountVectorizer()), \n",
    "    ('mnb', MultinomialNB())\n",
    "])\n",
    "model3 = Pipeline([\n",
    "    ('tfidf', TfidfVectorizer()),\n",
    "    ('bern', BernoulliNB())\n",
    "])\n",
    "model4 = Pipeline([\n",
    "    ('c_vec', CountVectorizer()),\n",
    "    ('bern', BernoulliNB())\n",
    "])"
   ]
  },
  {
   "cell_type": "code",
   "execution_count": 11,
   "id": "32f1ecb0",
   "metadata": {
    "execution": {
     "iopub.execute_input": "2021-10-04T09:32:42.412634Z",
     "iopub.status.busy": "2021-10-04T09:32:42.376535Z",
     "iopub.status.idle": "2021-10-04T09:32:42.999055Z",
     "shell.execute_reply": "2021-10-04T09:32:42.998240Z",
     "shell.execute_reply.started": "2021-10-04T09:29:47.055646Z"
    },
    "papermill": {
     "duration": 0.685969,
     "end_time": "2021-10-04T09:32:42.999233",
     "exception": false,
     "start_time": "2021-10-04T09:32:42.313264",
     "status": "completed"
    },
    "tags": []
   },
   "outputs": [
    {
     "data": {
      "text/plain": [
       "Pipeline(steps=[('c_vec', CountVectorizer()), ('bern', BernoulliNB())])"
      ]
     },
     "execution_count": 11,
     "metadata": {},
     "output_type": "execute_result"
    }
   ],
   "source": [
    "# Fitting and training the model now\n",
    "model1.fit(X_train,y_train)\n",
    "model2.fit(X_train,y_train)\n",
    "model3.fit(X_train,y_train)\n",
    "model4.fit(X_train,y_train)"
   ]
  },
  {
   "cell_type": "code",
   "execution_count": 12,
   "id": "230f4a68",
   "metadata": {
    "execution": {
     "iopub.execute_input": "2021-10-04T09:32:43.052201Z",
     "iopub.status.busy": "2021-10-04T09:32:43.051496Z",
     "iopub.status.idle": "2021-10-04T09:32:43.645491Z",
     "shell.execute_reply": "2021-10-04T09:32:43.646073Z",
     "shell.execute_reply.started": "2021-10-04T09:29:47.794719Z"
    },
    "papermill": {
     "duration": 0.625744,
     "end_time": "2021-10-04T09:32:43.646275",
     "exception": false,
     "start_time": "2021-10-04T09:32:43.020531",
     "status": "completed"
    },
    "tags": []
   },
   "outputs": [
    {
     "name": "stdout",
     "output_type": "stream",
     "text": [
      "Model 1 Train score 0.9018062397372743\n",
      "Model 1 Test score 0.7866053841103086\n",
      "\n",
      "Model 2 Train score 0.9187192118226601\n",
      "Model 2 Test score 0.7852921864740644\n",
      "\n",
      "Model 3 Train score 0.8957307060755336\n",
      "Model 3 Test score 0.7918581746552856\n",
      "\n",
      "Model 4 Train score 0.8957307060755336\n",
      "Model 4 Test score 0.7918581746552856\n"
     ]
    }
   ],
   "source": [
    "print('Model 1 Train score', model1.score(X_train,y_train))\n",
    "print('Model 1 Test score', model1.score(X_test,y_test))\n",
    "print()\n",
    "print('Model 2 Train score', model2.score(X_train,y_train))\n",
    "print('Model 2 Test score', model2.score(X_test,y_test))\n",
    "print()\n",
    "print('Model 3 Train score', model3.score(X_train,y_train))\n",
    "print('Model 3 Test score', model3.score(X_test,y_test))\n",
    "print()\n",
    "print('Model 4 Train score', model4.score(X_train,y_train))\n",
    "print('Model 4 Test score', model4.score(X_test,y_test))"
   ]
  },
  {
   "cell_type": "markdown",
   "id": "0fb65ae9",
   "metadata": {
    "papermill": {
     "duration": 0.02072,
     "end_time": "2021-10-04T09:32:43.688687",
     "exception": false,
     "start_time": "2021-10-04T09:32:43.667967",
     "status": "completed"
    },
    "tags": []
   },
   "source": [
    "# Visualizing the accuracy from the models"
   ]
  },
  {
   "cell_type": "code",
   "execution_count": 13,
   "id": "a08605f8",
   "metadata": {
    "execution": {
     "iopub.execute_input": "2021-10-04T09:32:43.734949Z",
     "iopub.status.busy": "2021-10-04T09:32:43.734320Z",
     "iopub.status.idle": "2021-10-04T09:32:44.070840Z",
     "shell.execute_reply": "2021-10-04T09:32:44.071407Z",
     "shell.execute_reply.started": "2021-10-04T09:29:48.464459Z"
    },
    "papermill": {
     "duration": 0.361788,
     "end_time": "2021-10-04T09:32:44.071606",
     "exception": false,
     "start_time": "2021-10-04T09:32:43.709818",
     "status": "completed"
    },
    "tags": []
   },
   "outputs": [
    {
     "data": {
      "image/png": "[encoded data removed]",
      "text/plain": [
       "<Figure size 1080x360 with 1 Axes>"
      ]
     },
     "metadata": {
      "needs_background": "light"
     },
     "output_type": "display_data"
    }
   ],
   "source": [
    "models = {'Model 1': model1.score(X_test,y_test),\n",
    "          'Model 2': model2.score(X_test,y_test),\n",
    "          'Model 3': model3.score(X_test,y_test),\n",
    "          'Model 4': model4.score(X_test,y_test)\n",
    "         }\n",
    "keys = [i for i in models.keys()]\n",
    "#print(keys)\n",
    "values = [i*100 for i in models.values()]\n",
    "#print(values)\n",
    "plt.figure(figsize=(15,5))\n",
    "plt.barh(keys, values)\n",
    "  \n",
    "for index, value in enumerate(values):\n",
    "    plt.text(value, index,\n",
    "             str(\"%.2f\"%value))\n",
    "plt.title(\"Model Accuracy\")\n",
    "plt.show()"
   ]
  },
  {
   "cell_type": "markdown",
   "id": "4982a314",
   "metadata": {
    "execution": {
     "iopub.execute_input": "2021-10-04T09:03:22.125053Z",
     "iopub.status.busy": "2021-10-04T09:03:22.124782Z",
     "iopub.status.idle": "2021-10-04T09:03:22.130098Z",
     "shell.execute_reply": "2021-10-04T09:03:22.129121Z",
     "shell.execute_reply.started": "2021-10-04T09:03:22.125024Z"
    },
    "papermill": {
     "duration": 0.02257,
     "end_time": "2021-10-04T09:32:44.117590",
     "exception": false,
     "start_time": "2021-10-04T09:32:44.095020",
     "status": "completed"
    },
    "tags": []
   },
   "source": [
    "### We can conclude that Model 3 and Model 4 are giving the best accuracy of 79.19%"
   ]
  },
  {
   "cell_type": "markdown",
   "id": "884c04a1",
   "metadata": {
    "papermill": {
     "duration": 0.022337,
     "end_time": "2021-10-04T09:32:44.162650",
     "exception": false,
     "start_time": "2021-10-04T09:32:44.140313",
     "status": "completed"
    },
    "tags": []
   },
   "source": [
    "# Predicting on Test data"
   ]
  },
  {
   "cell_type": "code",
   "execution_count": 14,
   "id": "f3bc7d59",
   "metadata": {
    "execution": {
     "iopub.execute_input": "2021-10-04T09:32:44.211907Z",
     "iopub.status.busy": "2021-10-04T09:32:44.211201Z",
     "iopub.status.idle": "2021-10-04T09:32:45.888366Z",
     "shell.execute_reply": "2021-10-04T09:32:45.887615Z",
     "shell.execute_reply.started": "2021-10-04T09:29:48.769534Z"
    },
    "papermill": {
     "duration": 1.703057,
     "end_time": "2021-10-04T09:32:45.888562",
     "exception": false,
     "start_time": "2021-10-04T09:32:44.185505",
     "status": "completed"
    },
    "tags": []
   },
   "outputs": [],
   "source": [
    "# Cleaning the test data\n",
    "test_set = test_data.text.apply(preprocess)"
   ]
  },
  {
   "cell_type": "code",
   "execution_count": 15,
   "id": "45f01b74",
   "metadata": {
    "execution": {
     "iopub.execute_input": "2021-10-04T09:32:45.963410Z",
     "iopub.status.busy": "2021-10-04T09:32:45.958426Z",
     "iopub.status.idle": "2021-10-04T09:32:46.006238Z",
     "shell.execute_reply": "2021-10-04T09:32:46.005586Z",
     "shell.execute_reply.started": "2021-10-04T09:29:50.493279Z"
    },
    "papermill": {
     "duration": 0.094434,
     "end_time": "2021-10-04T09:32:46.006404",
     "exception": false,
     "start_time": "2021-10-04T09:32:45.911970",
     "status": "completed"
    },
    "tags": []
   },
   "outputs": [],
   "source": [
    "pred = model3.predict(test_set)"
   ]
  },
  {
   "cell_type": "code",
   "execution_count": 16,
   "id": "cb98a643",
   "metadata": {
    "execution": {
     "iopub.execute_input": "2021-10-04T09:32:46.064944Z",
     "iopub.status.busy": "2021-10-04T09:32:46.064176Z",
     "iopub.status.idle": "2021-10-04T09:32:46.066695Z",
     "shell.execute_reply": "2021-10-04T09:32:46.066051Z",
     "shell.execute_reply.started": "2021-10-04T09:29:50.566175Z"
    },
    "papermill": {
     "duration": 0.037332,
     "end_time": "2021-10-04T09:32:46.066881",
     "exception": false,
     "start_time": "2021-10-04T09:32:46.029549",
     "status": "completed"
    },
    "tags": []
   },
   "outputs": [],
   "source": [
    "# Creating a new DataFrame for submission\n",
    "submission_df = pd.DataFrame(list(zip(test_data.iloc[:,0],pred)), columns=['id', 'target'])"
   ]
  },
  {
   "cell_type": "code",
   "execution_count": 17,
   "id": "0a524a35",
   "metadata": {
    "execution": {
     "iopub.execute_input": "2021-10-04T09:32:46.117832Z",
     "iopub.status.busy": "2021-10-04T09:32:46.117155Z",
     "iopub.status.idle": "2021-10-04T09:32:46.127833Z",
     "shell.execute_reply": "2021-10-04T09:32:46.128616Z",
     "shell.execute_reply.started": "2021-10-04T09:29:50.579983Z"
    },
    "papermill": {
     "duration": 0.038469,
     "end_time": "2021-10-04T09:32:46.128839",
     "exception": false,
     "start_time": "2021-10-04T09:32:46.090370",
     "status": "completed"
    },
    "tags": []
   },
   "outputs": [],
   "source": [
    "submission_df.to_csv('submission.csv', index=False)"
   ]
  },
  {
   "cell_type": "code",
   "execution_count": null,
   "id": "b459a68d",
   "metadata": {
    "papermill": {
     "duration": 0.023794,
     "end_time": "2021-10-04T09:32:46.176454",
     "exception": false,
     "start_time": "2021-10-04T09:32:46.152660",
     "status": "completed"
    },
    "tags": []
   },
   "outputs": [],
   "source": []
  }
 ],
 "metadata": {
  "kernelspec": {
   "display_name": "Python 3",
   "language": "python",
   "name": "python3"
  },
  "language_info": {
   "codemirror_mode": {
    "name": "ipython",
    "version": 3
   },
   "file_extension": ".py",
   "mimetype": "text/x-python",
   "name": "python",
   "nbconvert_exporter": "python",
   "pygments_lexer": "ipython3",
   "version": "3.7.10"
  },
  "papermill": {
   "default_parameters": {},
   "duration": 19.597434,
   "end_time": "2021-10-04T09:32:47.112439",
   "environment_variables": {},
   "exception": null,
   "input_path": "__notebook__.ipynb",
   "output_path": "__notebook__.ipynb",
   "parameters": {},
   "start_time": "2021-10-04T09:32:27.515005",
   "version": "2.3.3"
  }
 },
 "nbformat": 4,
 "nbformat_minor": 5
}
